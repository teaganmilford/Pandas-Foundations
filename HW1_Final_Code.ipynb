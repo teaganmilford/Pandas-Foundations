{
 "cells": [
  {
   "cell_type": "markdown",
   "id": "171c0d37",
   "metadata": {},
   "source": [
    "# Rock, Paper, Scissors (20 points)\n",
    "\n",
    "You will code up the game of <a href=\"http://en.wikipedia.org/wiki/Rock_paper_scissors\">Rock, Paper, Scissors.</a>\n",
    "\n",
    "Each game round consists two turns, the first by the computer and the second by a human.\n",
    "The computer continues playing rounds until the human chooses to quit.\n",
    "\n",
    "#### Each round proceeds in the following steps:\n",
    "\n",
    "* The computer chooses one of Rock, Paper, and Scissors, but keeps its choice secret.\n",
    "* The computer asks for the human's input.\n",
    "* The human chooses one of Rock, Paper, and Scissors, or Quit.\n",
    "* Unless the human quits, the computer figures out the result of the game, as follows:\n",
    "     * Rock smashes Scissors, so Rock beats Scissors.\n",
    "     * Scissors can cut up paper, so Scissors beat Paper.\n",
    "     * Paper covers Rock, so Paper beats Rock.\n",
    "    * If both players chose the same, it is a draw.\n",
    "* The computer reports the result of this round.\n",
    "* If the human chooses to quit, the computer reports:\n",
    "     * the number of games played, and\n",
    "     * the number of times the human won.\n",
    "     \n",
    "#### Computer's brains:\n",
    "The computer must be able to exploit some human biases.  If the human\n",
    "has played Rock most often, the computer should assume that he or she\n",
    "will play Rock in the next round, so the computer should play Paper.\n",
    "If the human has played Rock and Paper equally often, and Scissors\n",
    "less often, the computer should assume that the human is going to play\n",
    "either Rock or Paper (both equally likely) in the next round. (What\n",
    "should the computer play?)\n",
    "\n",
    "Hence, **your program should remember how many Rock, Paper, or\n",
    "Scissors were played by the human.** Note that we don't need to\n",
    "remember the order in which the human chooses these; the total counts\n",
    "so far for each choice will be enough.\n",
    "\n",
    "#### Gotchas:\n",
    "\n",
    "* *User input:* How you want to receive the user's input is up\n",
    "to you, but you **must** check the user's input to make sure it is\n",
    "valid (you can assume that the user input is of the correct type).\n",
    "If it isn't, request the user for input again.\n",
    "\n",
    "### TODO:\n",
    "\n",
    "* Write code to run the game.\n",
    "    * You should have a top-level function called \"playGame()\"\n",
    "* Use as many code cells as you want.\n",
    "* If you find yourself reusing any piece of code, write it as a separate function.\n",
    "* At the end, show a sample run of your program.\n",
    "    * In other words, call \"playGame()\" and play a game.\n",
    "* NOTE: Unlike standard Python, you don't need a \"__main__\" function here."
   ]
  },
  {
   "cell_type": "code",
   "execution_count": 2,
   "id": "db6172ba",
   "metadata": {},
   "outputs": [],
   "source": [
    "def playGame():\n",
    "    # Start here\n",
    "    pass"
   ]
  },
  {
   "cell_type": "markdown",
   "id": "854f75ce",
   "metadata": {},
   "source": [
    "# Voters in Florida (20 points)\n",
    "\n",
    "The file <a href=\"HW2FloridaVoters.html\">HW2FloridaVoters.html</a> contains a Web Table of republican and democratic voters in various counties in Florida.\n",
    "\n",
    "Write code that reads in this file **as a standard text file** and prints out the counties, along with the number of republican and democratic voters in those counties, **sorted by the number of democratic voters.**\n",
    "\n",
    "The output should look like this:\n",
    "<pre>\n",
    "LAFAYETTE 1373 2672\n",
    "GLADES 2190 3110\n",
    "LIBERTY 720 3372\n",
    "...\n",
    "MIAMI-DADE 362161 539367\n",
    "BROWARD 249762 566185\n",
    "Total 4377713 4637026\n",
    "</pre>\n",
    "\n",
    "#### Notes:\n",
    "\n",
    "* The numbers in the HTML file contain commas, but we must get rid of them in order to do the sorting.\n",
    "* While we should technically ignore the data for <tt>Total</tt>, let's not worry about it here.\n",
    "* **IMPORTANT**: There are many libraries for automatically reading and parsing HTML. **You should not use them.** You must read in the HTML file as a plain text file, and figure out the correct regular expressions to extract the county names and the numbers of voters.\n",
    "* *Hint:* You may want to read in the file and create a list of tuples of the form\n",
    "<pre> [('ALACHUA', 47329, 77996), ('BAKER', 6963, 5813), ...] </pre>\n",
    "and then do the sorting and printing.\n",
    "* At the end, show a sample run of your code."
   ]
  },
  {
   "cell_type": "code",
   "execution_count": null,
   "id": "f90aac2e",
   "metadata": {},
   "outputs": [],
   "source": []
  },
  {
   "cell_type": "markdown",
   "id": "e05a5d60",
   "metadata": {},
   "source": [
    "# Near-duplicate detection (20 points)\n",
    "\n",
    "Tweets on a subject are often nearly (but not exactly) duplicates of each\n",
    "other. The file Santa.txt contains a few tweets about Santa Claus, one\n",
    "tweet per line. We will try to detect tweets that we have already seen before.\n",
    "\n",
    "### (a) Convert each tweet into a dictionary of phrases (6 points).\n",
    "Write a function called `moving_window` that takes as input a tweet (that is,\n",
    "a string), and converts it into a bunch of phrases. Each phrase is three con-\n",
    "secutive words in the tweet. \n",
    "* For example, the tweet `This is an awesome tweet, dude` consists of the phrases\n",
    "    * `This is an`\n",
    "    * `is an awesome`\n",
    "    * `an awesome tweet,`\n",
    "    * `awesome tweet, dude` \n",
    "\n",
    "Return a dictionary whose keys are these phrases, and just set the corresponding values to 1. This dictionary contains all the unique 3-word phrases in the tweet."
   ]
  },
  {
   "cell_type": "code",
   "execution_count": null,
   "id": "a5f4438f",
   "metadata": {},
   "outputs": [],
   "source": []
  },
  {
   "cell_type": "markdown",
   "id": "899b164c",
   "metadata": {},
   "source": [
    "### (b) Calculate similarity between two tweets (6 points).\n",
    "To check if one tweet is a near-duplicate of another, we compute their cosine similarity:\n",
    "\n",
    "$cosine(\\text{tweet}_1, \\text{tweet}_2) = \\frac{matches}{\\sqrt{n1\\times n2}}$\n",
    "\n",
    "where `matches` is the number of 3-word phrases in common between the two tweets, and\n",
    "`n1` and `n2` are the number of phrases in the two tweets respectively.\n",
    "\n",
    "Write a function called `cosine` that takes as input two dictionaries. Each\n",
    "dictionary contains the 3-word phrases from one tweet. Return the cosine\n",
    "similarity between the phrases in the two dictionaries.\n",
    "\n",
    "*Hint:* You can use the function `math.sqrt(x)` to calculate the square-root\n",
    "of any floating point number x, but you must import the `math` module."
   ]
  },
  {
   "cell_type": "code",
   "execution_count": null,
   "id": "3fa05c15",
   "metadata": {},
   "outputs": [],
   "source": []
  },
  {
   "cell_type": "markdown",
   "id": "2ab9906e",
   "metadata": {},
   "source": [
    "### (c) Read in tweets, and output near-duplicates (8 points).\n",
    "Read in the tweets in the file `Santa.txt`. For each tweet, figure out if it is a near-duplicate of any of the previously-seen tweets. We say that the two tweets are near-duplicates if their cosine similarity is greater than 0.5.\n",
    "You should call the functions `moving_window` and `cosine` here."
   ]
  },
  {
   "cell_type": "code",
   "execution_count": null,
   "id": "d58d3dd1",
   "metadata": {},
   "outputs": [],
   "source": []
  },
  {
   "cell_type": "markdown",
   "id": "4a948c23",
   "metadata": {},
   "source": [
    "# The Google of Quotes (40 points)\n",
    "The file `quotes.txt` contains pairs of lines, with the first line being a quote\n",
    "and the following line being the person who said it. We want to build a\n",
    "search engine that, given a word or words, finds the best matching quotes.\n",
    "\n",
    "### (a) Build a list of full quotes (5 points).\n",
    "Read in the file, and create a list of full quotes of the form *\"quote - speaker\"*.\n",
    "* For example, `\"The heart has its reasons, of which the mind knows nothing. - Blaise Pascal\"`."
   ]
  },
  {
   "cell_type": "code",
   "execution_count": null,
   "id": "6c31c457",
   "metadata": {},
   "outputs": [],
   "source": []
  },
  {
   "cell_type": "markdown",
   "id": "a3ee189f",
   "metadata": {},
   "source": [
    "### (b) Words from full quotes (5 points).\n",
    "Write a function that takes a full quote as argument and outputs a list of the words in the it.\n",
    "The words should all be lower-case, and should contain only characters, digits, or underscore.\n",
    "\n",
    "*Hint:* Use the `lower()` function of strings, and `re.split()` to split into\n",
    "words, but you must figure out the regular expression for `re.split()`."
   ]
  },
  {
   "cell_type": "code",
   "execution_count": null,
   "id": "d7ed94b5",
   "metadata": {},
   "outputs": [],
   "source": []
  },
  {
   "cell_type": "markdown",
   "id": "868842e6",
   "metadata": {},
   "source": [
    "### (c) Build the postings-list dictionary (6 points).\n",
    "A postings-list is a dictionary whose keys are full quotes, and whose values are themselves dictionaries with key being a word, and value being the number of times the word occurs in the full quote. \n",
    "* For example, for the key \n",
    "    * `\"The heart has its reasons, of which the mind knows nothing. - Blaise Pascal\"`.\n",
    "* the corresponding value will be the following dictionary:\n",
    "    * `{'the':2, 'heart':1, 'has':1, 'its':1, 'reasons':1, 'of':1, 'which':1, 'mind':1, 'knows':1, 'nothing:1, 'blaise':1, 'pascal':1}`."
   ]
  },
  {
   "cell_type": "code",
   "execution_count": null,
   "id": "74828269",
   "metadata": {},
   "outputs": [],
   "source": []
  },
  {
   "cell_type": "markdown",
   "id": "e84def78",
   "metadata": {},
   "source": [
    "### (d) Build the reverse postings-list dictionary (6 points).\n",
    "A reverse postings-list is a dictionary whose keys are the words, and the values are\n",
    "themselves dictionaries with the key being a full quote, and the value being the number of times the word appeared in the full quote.\n",
    "\n",
    "* For example, for the key\n",
    "    * `\"entertainer\"`\n",
    "* the value is the following dictionary:\n",
    "    * `{'An actor is at most a poet and at least an entertainer.- Marlon Brando':1}`\n",
    "    * (only this quote contains the word \"entertainer\")."
   ]
  },
  {
   "cell_type": "code",
   "execution_count": null,
   "id": "10c910b5",
   "metadata": {},
   "outputs": [],
   "source": []
  },
  {
   "cell_type": "markdown",
   "id": "9cd9fa38",
   "metadata": {},
   "source": [
    "### (e) Write a TF-IDF function (8 points).\n",
    "To measure how much a full quote is about a particular word, one typically uses the TF-IDF measure.\n",
    "\n",
    "* TF stands for *term frequency*; the term frequency of a word w in a full quote q is the number of times w occurs in q, divided by the maximum number of times any word occurs in q.\n",
    "* IDF stands for *inverse document frequency*: the IDF of a word w is the logarithm of the ratio of the total number N of full quotes to the number of full quotes in that contain the word w.\n",
    "* TF-IDF of a word w for a full quote q is just the product of the TF and IDF. For example, for the word \"entertainer\" in the Marlon Brando quote of part (d):\n",
    "    * The TF is *0.5* since \"entertainer\" occurs once, while the most frequent word in that quote is \"at\", which occurs twice, so the TF ratio is 0.5.\n",
    "    * The IDF is *log (886/1)*, since there are 886 documents and the word \"entertainer\" occurs in only one full quote.\n",
    "    \n",
    "Write a function to compute the TF-IDF of any word in any full quote, using the postings and reverse-postings.\n",
    "\n",
    "*Hint:* Do `import math` and use `math.log()` to get logarithms."
   ]
  },
  {
   "cell_type": "code",
   "execution_count": null,
   "id": "fbc2d899",
   "metadata": {},
   "outputs": [],
   "source": []
  },
  {
   "cell_type": "markdown",
   "id": "629b34df",
   "metadata": {},
   "source": [
    "### (f) Quote search using a single word (5 points).\n",
    "Write a function that takes a word as argument, and returns a dictionary whose keys are full\n",
    "quotes containing that word, and whose values are the TF-IDF score of that\n",
    "word for that full quote."
   ]
  },
  {
   "cell_type": "code",
   "execution_count": null,
   "id": "575b3d4f",
   "metadata": {},
   "outputs": [],
   "source": []
  },
  {
   "cell_type": "markdown",
   "id": "8fb95e96",
   "metadata": {},
   "source": [
    "### (g) Quote search using multiple words (5 points).\n",
    "Write a function that takes a list of words as argument, and returns a dictionary whose keys\n",
    "are full quotes containing one or more of the words in that list, and whose\n",
    "values are the sum of TF-IDF scores of the words in that list for that full\n",
    "quote.\n",
    "\n",
    "* For example, if you called the function with the list of words `[heart, mind, disease]`, and you have a full quote `\"The heart has its reasons, of which the mind knows nothing - Blaise Pascal\"`, then you want to compute the sum of TF-IDF scores of heart and mind for this full quote."
   ]
  },
  {
   "cell_type": "code",
   "execution_count": null,
   "id": "9f794088",
   "metadata": {},
   "outputs": [],
   "source": []
  }
 ],
 "metadata": {
  "kernelspec": {
   "display_name": "Python 3 (ipykernel)",
   "language": "python",
   "name": "python3"
  },
  "language_info": {
   "codemirror_mode": {
    "name": "ipython",
    "version": 3
   },
   "file_extension": ".py",
   "mimetype": "text/x-python",
   "name": "python",
   "nbconvert_exporter": "python",
   "pygments_lexer": "ipython3",
   "version": "3.7.16"
  }
 },
 "nbformat": 4,
 "nbformat_minor": 5
}
