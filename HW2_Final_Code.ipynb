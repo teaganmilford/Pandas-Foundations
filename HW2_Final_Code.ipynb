{
 "cells": [
  {
   "cell_type": "markdown",
   "id": "a949f1ef",
   "metadata": {},
   "source": [
    "# New York City Restaurant Inspections\n",
    "\n",
    "We will analyze restaurant inspections in New York City, starting November 1, 2014 and ending January 31, 2015. \n",
    "The data is in the file <a href=\"NYCRestaurants.csv\">NYCRestaurants.csv</a>."
   ]
  },
  {
   "cell_type": "code",
   "execution_count": 1,
   "id": "7aa8e457",
   "metadata": {},
   "outputs": [
    {
     "name": "stdout",
     "output_type": "stream",
     "text": [
      "Populating the interactive namespace from numpy and matplotlib\n"
     ]
    }
   ],
   "source": [
    "import pandas as pd\n",
    "from pandas import Series, DataFrame\n",
    "%pylab inline"
   ]
  },
  {
   "cell_type": "code",
   "execution_count": 2,
   "id": "3ad15af5",
   "metadata": {},
   "outputs": [],
   "source": [
    "# The dtype=str tells Pandas to load in all columns as strings.\n",
    "# I do this because I know they are strings, and Pandas doesn't have to spend time figuring out the column dtypes.\n",
    "df = pd.read_csv('NYCRestaurants.csv', dtype=str)"
   ]
  },
  {
   "cell_type": "markdown",
   "id": "63cda23b",
   "metadata": {},
   "source": [
    "#### [Q1, 6 points] Create a unique name for each restaurant.\n",
    "On the DataFrame created above, add a new column to your DataFrame called 'RESTAURANT', that combines DBA, BUILDING, STREET, ZIPCODE, and BORO fields. For example:\n",
    "<pre>WENDY'S 469 FLATBUSH AVENUE 11225 BROOKLYN</pre>\n",
    "\n",
    "Print the first 10 values of the RESTAURANT column of your DataFrame."
   ]
  },
  {
   "cell_type": "code",
   "execution_count": null,
   "id": "1cb30806",
   "metadata": {},
   "outputs": [],
   "source": []
  },
  {
   "cell_type": "markdown",
   "id": "4e24739a",
   "metadata": {},
   "source": [
    "#### [Q2, 6 points] How many restaurants are included in the data?\n",
    "Careful now:\n",
    "\n",
    "*  A *Subway* in one particular address (i.e., building, street, zipcode, and boro) counts as one restaurant; don't combine all Subways into one restaurant!\n",
    "* The data can have multiple violations for the same restaurant!"
   ]
  },
  {
   "cell_type": "code",
   "execution_count": null,
   "id": "7b296913",
   "metadata": {},
   "outputs": [],
   "source": []
  },
  {
   "cell_type": "markdown",
   "id": "2f41420d",
   "metadata": {},
   "source": [
    "#### [Q3, 6 points] How many chains are there?\n",
    "Let us define a chain to be the same restaurant name occurring in at least two different (building, street, zipcode, boro) addresses (i.e., one DBA with multiple restaurant locations).\n",
    "\n",
    "You'll see multiple versions of the name \"DUNKIN DONUTS\". Just act as if they are different chains."
   ]
  },
  {
   "cell_type": "code",
   "execution_count": null,
   "id": "eae6da04",
   "metadata": {},
   "outputs": [],
   "source": []
  },
  {
   "cell_type": "markdown",
   "id": "4225e644",
   "metadata": {},
   "source": [
    "#### [Q4, 6 points] Plot a bar graph of the top 20 most popular chains.\n",
    "We already have the chains from the previous problem. Count the number of restaurants for each chain as a measure of its popularity."
   ]
  },
  {
   "cell_type": "code",
   "execution_count": null,
   "id": "750c6b29",
   "metadata": {},
   "outputs": [],
   "source": []
  },
  {
   "cell_type": "markdown",
   "id": "7c862125",
   "metadata": {},
   "source": [
    "#### [Q5, 6 points] What fraction of all restaurants are chain restaurants?\n",
    "\n",
    "You should think of a restaurant as being one restaurant at one location.\n",
    "So *Wendy's 5th Street* and *Wendy's on 10th Street* are two different restaurants.\n",
    "Essentially a restaurant is what you defined in Q1."
   ]
  },
  {
   "cell_type": "code",
   "execution_count": null,
   "id": "227bee7b",
   "metadata": {},
   "outputs": [],
   "source": []
  },
  {
   "cell_type": "markdown",
   "id": "83d7fe35",
   "metadata": {},
   "source": [
    "#### [Q6, 6 points] Plot the number of non-chain restaurants in each boro.\n",
    "\n",
    "We need several steps:\n",
    "* Figure out all the non-chain restaurants.\n",
    "* Then elect out only those restaurants.\n",
    "* Finally plot the number of such restaurants by boro. \n",
    "* Make sure to look at the plot; we don't want to see... oh... the *missing* boro."
   ]
  },
  {
   "cell_type": "code",
   "execution_count": null,
   "id": "8e576025",
   "metadata": {},
   "outputs": [],
   "source": []
  },
  {
   "cell_type": "markdown",
   "id": "bb4924b4",
   "metadata": {},
   "source": [
    "#### [Q7, 8 points] Plot the *fraction* of non-chain restaurants in each boro.\n",
    "The boro with the most non-chain restaurants might just be the boro\n",
    "with the most restaurants in general.\n",
    "\n",
    "If we want to find the boro that attracts the most \"independent\" restauranteurs, we must divide the number of non-chain restaurants by the total number of restaurants in the boro. Plot this.\n",
    "\n",
    "Is the boro with the most independent restaurants also the one with the highest ratio of independent restaurants?"
   ]
  },
  {
   "cell_type": "code",
   "execution_count": null,
   "id": "c309ea20",
   "metadata": {},
   "outputs": [],
   "source": []
  },
  {
   "cell_type": "markdown",
   "id": "b62a6acd",
   "metadata": {},
   "source": [
    "#### [Q8, 6 points] Plot the popularity of cuisines.\n",
    "Which cuisines are the most well-represented among all restaurants?\n",
    "\n",
    "* Define the popularity of a cuisine as the number of restaurants serving that cuisine.\n",
    "* Plot the popularity of the top 20 cuisines."
   ]
  },
  {
   "cell_type": "code",
   "execution_count": null,
   "id": "2c1d5651",
   "metadata": {},
   "outputs": [],
   "source": []
  },
  {
   "cell_type": "markdown",
   "id": "985ca86e",
   "metadata": {},
   "source": [
    "#### [Q9, 9 points] Plot the cuisines among restaurants which never got cited for violations.\n",
    "Ideally, you should explore and see what happens when there is no\n",
    "violation, but here I will just tell you: the 'VIOLATION CODE' field\n",
    "is missing.\n",
    "\n",
    "* First, find the restaurants that were **never** cited for a code violation. \n",
    "* Then. compute the popularity of each cuisine among these \"clean\" restaurants.\n",
    "* Plot the popularity of the top-20 among these cuisines."
   ]
  },
  {
   "cell_type": "code",
   "execution_count": null,
   "id": "46f3e8fa",
   "metadata": {},
   "outputs": [],
   "source": []
  },
  {
   "cell_type": "markdown",
   "id": "998e6370",
   "metadata": {},
   "source": [
    "#### [Q10, 6 points] What cuisines tend to be the \"cleanest\"?\n",
    "\n",
    "* Select all cuisines for which there were at least 20 restaurants representing that cuisine.\n",
    "* For each such cuisine, compute the ratio of the counts in Q9 to Q8. This is the ratio of restaurants that never got cited, versus total number of restaurants, for each cuisine.\n",
    "* Find the top-10 cuisines with the highest ratios; these are that cuisines whose restaurants are \"most likely to be clean.\""
   ]
  },
  {
   "cell_type": "code",
   "execution_count": null,
   "id": "6488828c",
   "metadata": {},
   "outputs": [],
   "source": []
  },
  {
   "cell_type": "markdown",
   "id": "388868e1",
   "metadata": {},
   "source": [
    "#### [Q11, 8 points] What are the most common violations in each  borough?\n",
    "\n",
    "* Create a table of the number of times each violation description was observed in each borough.\n",
    "    * To create the table, check out the **crosstab** function. We will see a more general version of this when we discuss **groupby** in class.\n",
    "* Figure out the most common violation description for each borough."
   ]
  },
  {
   "cell_type": "code",
   "execution_count": null,
   "id": "d477c92b",
   "metadata": {},
   "outputs": [],
   "source": []
  },
  {
   "cell_type": "markdown",
   "id": "50faa719",
   "metadata": {},
   "source": [
    "#### [Q12, 9 points] What are the most common violations per borough, *after normalizing for the relative abundance of each violation?*\n",
    "\n",
    "Hopefully, the answer to the previous question left you unsatisfied,\n",
    "because some violations are just very common, irrespective of borough.\n",
    "A better approach would be to **normalize** the violation counts, as\n",
    "follows.\n",
    "\n",
    "* **Get overall frequencies:** Figure out how common each violation is, over the entire dataset; let's call this <tt>violationFrequency</tt>.\n",
    "* **Normalize:** Consider the table of number of violations by borough that you created for the previous question. For each borough, divide the number of violations of each type by the total number of violations for that type; i.e., divide the series of violations by <tt>violationFrequency</tt>. We want to do this **for each borough**.\n",
    "* **Find the biggest violations:** After this normalization, for each borough, figure out the most common violation description."
   ]
  },
  {
   "cell_type": "code",
   "execution_count": null,
   "id": "b6f37ac4",
   "metadata": {},
   "outputs": [],
   "source": []
  },
  {
   "cell_type": "markdown",
   "id": "dd396ccd",
   "metadata": {},
   "source": [
    "#### [Q13, 8 points] How many phone area codes correspond to a single zipcode?\n",
    "The first three digits of the restaurant phone numbers are their area\n",
    "codes. The area codes do not generally align with zip codes, but some\n",
    "area codes are only for a single zip code. You must figure out how\n",
    "many area codes have this property.\n",
    "\n",
    "*Hint:* To extract the first 3 characters of the phone number, recall that strings are pretty similar to lists."
   ]
  },
  {
   "cell_type": "code",
   "execution_count": null,
   "id": "37a1eeb2",
   "metadata": {},
   "outputs": [],
   "source": []
  },
  {
   "cell_type": "markdown",
   "id": "dfd1b006",
   "metadata": {},
   "source": [
    "#### [Q14, 10 points] Find common misspellings of street names.\n",
    "Sometimes, it's \"Avenue\", and sometimes, it's \"Ave\". We will\n",
    "try to come up with an automated way to find common misspellings. The\n",
    "idea is the following: if \"Ave\" and \"Avenue\" are the same,\n",
    "they should show up often in similar-sounding street names, e.g., *Lexington Ave* and *Lexington Avenue*.\n",
    "\n",
    "* Create a new column, called <tt>STREET TYPE</tt>, which is the the last word in the name of the street.\n",
    "    * For example, if the street is *Astoria Boulevard*, the street type should be *Boulevard*.\n",
    "* Create another column, called <tt>STREET BASE</tt>, which contains everything **except** the last word in the name of the street.\n",
    "    * For example, if the street is *Astoria Boulevard*, the street base should be *Astoria*.\n",
    "* Create a third column, called <tt>STREET BASE & ZIP</tt>, that combines the street base and the zipcode.\n",
    "* Create a table containing just these three columns, and remove any duplicates or instances where street base is empty.\n",
    "    * This table now contains unique street names, along with the street type.\n",
    "* Merge this table with itself, on the <tt>STREET BASE & ZIP</tt> column. \n",
    "    * Thus, in the new merged tabled, we will have two <tt>STREET TYPE</tt> fields for each street base and zipcode.\n",
    "    * For example, if both *Lexington Ave* and *Lexington Avenue* exist in the same zipcode, we will get a row for the street base *Lexington* and the two street types *Ave* and *Avenue*.\n",
    "* From the merged table, select only the rows where the street types are different.\n",
    "* Now, do a cross-tabulation of the two distinct street types (check out the **crosstab** function in Pandas).\n",
    "    * This gives us the number of times *Ave* and *Avenue* were used with the same <tt>STREET BASE & ZIP</tt>.\n",
    "* From this cross-tabulation table, find the most commonly street type that occurs with each of the following: *AVE*, *ST*, *RD*, *PL*, *BOULEARD*, and *BULEVARD*."
   ]
  },
  {
   "cell_type": "code",
   "execution_count": null,
   "id": "08b47cbe",
   "metadata": {},
   "outputs": [],
   "source": []
  }
 ],
 "metadata": {
  "kernelspec": {
   "display_name": "Python 3 (ipykernel)",
   "language": "python",
   "name": "python3"
  },
  "language_info": {
   "codemirror_mode": {
    "name": "ipython",
    "version": 3
   },
   "file_extension": ".py",
   "mimetype": "text/x-python",
   "name": "python",
   "nbconvert_exporter": "python",
   "pygments_lexer": "ipython3",
   "version": "3.7.16"
  }
 },
 "nbformat": 4,
 "nbformat_minor": 5
}
